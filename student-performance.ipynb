{
 "cells": [
  {
   "cell_type": "markdown",
   "metadata": {
    "id": "BOiBKMOFbxHT"
   },
   "source": [
    "# STAIML ASSIGNMENT 2"
   ]
  },
  {
   "cell_type": "markdown",
   "metadata": {},
   "source": [
    "NAME:LOCHAN PAUDEL\n",
    "PRN: 23070126170\n",
    "BRANCH:AIML(A3)\n",
    "BATCH:2023-27"
   ]
  },
  {
   "cell_type": "code",
   "execution_count": 11,
   "metadata": {
    "colab": {
     "base_uri": "https://localhost:8080/"
    },
    "id": "xDo2xhJcbmAq",
    "outputId": "cafce2cb-321f-4bc2-9401-febcc00da023"
   },
   "outputs": [],
   "source": [
    "import numpy as np\n",
    "import pandas as pd\n",
    "import matplotlib.pyplot as plt\n",
    "import seaborn as sns\n",
    "from sklearn.model_selection import train_test_split\n",
    "from sklearn.linear_model import LinearRegression\n",
    "from sklearn.metrics import mean_squared_error, r2_score\n",
    "from sklearn.preprocessing import StandardScaler\n",
    "\n",
    "# Read the data files\n",
    "df_mat = pd.read_csv(r\"C:\\Users\\DELL\\OneDrive\\Desktop\\student\\student-mat.csv\")"
   ]
  },
  {
   "cell_type": "markdown",
   "metadata": {},
   "source": [
    "a)Identify which features have null values? How will you address the null values in different features?"
   ]
  },
  {
   "cell_type": "code",
   "execution_count": 12,
   "metadata": {
    "colab": {
     "base_uri": "https://localhost:8080/"
    },
    "id": "G_CxU5d8hQjb",
    "outputId": "4b481cbb-3b4a-4057-e161-43324dc3092b"
   },
   "outputs": [
    {
     "name": "stdout",
     "output_type": "stream",
     "text": [
      "Features with null values:\n",
      "school;sex;age;address;famsize;Pstatus;Medu;Fedu;Mjob;Fjob;reason;guardian;traveltime;studytime;failures;schoolsup;famsup;paid;activities;nursery;higher;internet;romantic;famrel;freetime;goout;Dalc;Walc;health;absences;G1;G2;G3    0\n",
      "dtype: int64\n"
     ]
    }
   ],
   "source": [
    "print(\"Features with null values:\")\n",
    "print(df_mat.isnull().sum())"
   ]
  },
  {
   "cell_type": "markdown",
   "metadata": {},
   "source": [
    "b) What transformations might be necessary for categorical variables such as 'school', 'sex', 'address', \n",
    "'famsize', and 'reason' before applying linear regression?"
   ]
  },
  {
   "cell_type": "code",
   "execution_count": null,
   "metadata": {
    "id": "FYagrSHm0D_p"
   },
   "outputs": [],
   "source": [
    "data = pd.get_dummies(df_mat, columns=['school', 'sex', 'address', 'famsize', 'reason'])"
   ]
  },
  {
   "cell_type": "markdown",
   "metadata": {},
   "source": [
    "c) Considering the numeric attributes like 'age', 'absences', and 'G1', 'G2' grades, would you perform any \n",
    "normalization or scaling before fitting a linear regression model? If yes, what method would you choose \n",
    "and why?"
   ]
  },
  {
   "cell_type": "code",
   "execution_count": 15,
   "metadata": {
    "id": "PZt0QpFh0uyG"
   },
   "outputs": [],
   "source": [
    "scaler = StandardScaler()\n",
    "df_mat[['age', 'absences', 'G1', 'G2']] = scaler.fit_transform(df_mat[['age', 'absences', 'G1', 'G2']])"
   ]
  },
  {
   "cell_type": "markdown",
   "metadata": {},
   "source": [
    "d) Which features have outliers present? How will you address those?"
   ]
  },
  {
   "cell_type": "code",
   "execution_count": 18,
   "metadata": {
    "colab": {
     "base_uri": "https://localhost:8080/",
     "height": 430
    },
    "id": "RhmiEE5R1_yy",
    "outputId": "922c95eb-ad28-40d2-8b2c-1d81d4fa88f5"
   },
   "outputs": [
    {
     "data": {
      "text/plain": [
       "<Figure size 640x480 with 0 Axes>"
      ]
     },
     "metadata": {},
     "output_type": "display_data"
    }
   ],
   "source": [
    "sns.violinplot(data=data)\n",
    "plt.xlabel('age')\n",
    "plt.ylabel('absences')\n",
    "plt.title('Violin Plot of Age, Absences, G1, G2')\n",
    "plt.show()"
   ]
  },
  {
   "cell_type": "markdown",
   "metadata": {},
   "source": [
    "e) Would you create any new features (feature engineering) from existing ones, such as combining parental \n",
    "education levels into a single feature or creating a feature representing total alcohol consumption?"
   ]
  },
  {
   "cell_type": "code",
   "execution_count": 17,
   "metadata": {
    "id": "gTjytXHKlk0_"
   },
   "outputs": [],
   "source": [
    "df_mat['parent_education'] = df_mat['Medu'] + df_mat['Fedu']\n",
    "df_mat['total_alcohol'] = df_mat['Dalc'] + df_mat['Walc']"
   ]
  },
  {
   "cell_type": "markdown",
   "metadata": {},
   "source": [
    "f) Which features will you select for prediction of final grades (G3) and how?"
   ]
  },
  {
   "cell_type": "code",
   "execution_count": 18,
   "metadata": {
    "id": "LAhsid1Pni_1"
   },
   "outputs": [],
   "source": [
    "selected_features = ['age', 'absences', 'G1', 'G2', 'parent_education', 'total_alcohol', 'studytime']\n",
    "X = df_mat[selected_features]\n",
    "y = df_mat['G3']"
   ]
  },
  {
   "cell_type": "markdown",
   "metadata": {},
   "source": [
    "g) Since 'G1' and 'G2' grades are highly correlated with 'G3', would you consider dropping any of them to \n",
    "avoid multicollinearity in the linear regression model? If yes, which one and why?"
   ]
  },
  {
   "cell_type": "code",
   "execution_count": 19,
   "metadata": {
    "colab": {
     "base_uri": "https://localhost:8080/"
    },
    "id": "zrB-L4YxnpyK",
    "outputId": "a7bdb415-0651-46af-84e4-f4dde0bb4d4e"
   },
   "outputs": [
    {
     "name": "stdout",
     "output_type": "stream",
     "text": [
      "          G1        G2        G3\n",
      "G1  1.000000  0.852118  0.801468\n",
      "G2  0.852118  1.000000  0.904868\n",
      "G3  0.801468  0.904868  1.000000\n"
     ]
    }
   ],
   "source": [
    "corr_matrix = df_mat[['G1', 'G2', 'G3']].corr()\n",
    "print(corr_matrix)"
   ]
  },
  {
   "cell_type": "code",
   "execution_count": 20,
   "metadata": {
    "id": "fqx6w1qTn8yE"
   },
   "outputs": [],
   "source": [
    "X_train, X_test, y_train, y_test = train_test_split(X, y, test_size=0.2, random_state=42)\n",
    "lr = LinearRegression()\n",
    "lr.fit(X_train, y_train)\n",
    "y_pred = lr.predict(X_test)"
   ]
  },
  {
   "cell_type": "markdown",
   "metadata": {},
   "source": [
    "h) How would you evaluate the performance of the linear regression model in predicting 'G3' grades? Which \n",
    "metrics would you use, and why are they appropriate for this task"
   ]
  },
  {
   "cell_type": "code",
   "execution_count": 22,
   "metadata": {
    "colab": {
     "base_uri": "https://localhost:8080/"
    },
    "id": "8gykH4wZoFA0",
    "outputId": "a7d5ea46-2848-44dd-9d6b-fd86dc512bc1"
   },
   "outputs": [
    {
     "name": "stdout",
     "output_type": "stream",
     "text": [
      "Mean Squared Error: 4.233848546253576\n",
      "R sq. Score: 0.7935216392869646\n"
     ]
    }
   ],
   "source": [
    "print(\"Mean Squared Error:\", mean_squared_error(y_test, y_pred))\n",
    "print(\"R sq. Score:\", r2_score(y_test, y_pred))"
   ]
  },
  {
   "cell_type": "markdown",
   "metadata": {},
   "source": [
    "Github link:https://github.com/nahcol10/student-performance.git"
   ]
  }
 ],
 "metadata": {
  "colab": {
   "provenance": []
  },
  "kernelspec": {
   "display_name": "Python 3 (ipykernel)",
   "language": "python",
   "name": "python3"
  },
  "language_info": {
   "codemirror_mode": {
    "name": "ipython",
    "version": 3
   },
   "file_extension": ".py",
   "mimetype": "text/x-python",
   "name": "python",
   "nbconvert_exporter": "python",
   "pygments_lexer": "ipython3",
   "version": "3.11.5"
  }
 },
 "nbformat": 4,
 "nbformat_minor": 1
}
